{
  "nbformat": 4,
  "nbformat_minor": 0,
  "metadata": {
    "colab": {
      "provenance": [],
      "authorship_tag": "ABX9TyPj6dy1qtiXJqkabKgFSBPt",
      "include_colab_link": true
    },
    "kernelspec": {
      "name": "python3",
      "display_name": "Python 3"
    },
    "language_info": {
      "name": "python"
    }
  },
  "cells": [
    {
      "cell_type": "markdown",
      "metadata": {
        "id": "view-in-github",
        "colab_type": "text"
      },
      "source": [
        "<a href=\"https://colab.research.google.com/github/davgarveg/Project_Data_Science_-_AI/blob/main/OpenMeteo_Scraping.ipynb\" target=\"_parent\"><img src=\"https://colab.research.google.com/assets/colab-badge.svg\" alt=\"Open In Colab\"/></a>"
      ]
    },
    {
      "cell_type": "code",
      "source": [
        "# Instalación de las librerías necesarias\n",
        "\n",
        "!pip install openmeteo-requests\n",
        "!pip install requests-cache retry-requests numpy pandas\n",
        "!pip install psycopg2 pandas sqlalchemy"
      ],
      "metadata": {
        "collapsed": true,
        "id": "Ff4Gs-tasUOt"
      },
      "execution_count": null,
      "outputs": []
    },
    {
      "cell_type": "code",
      "source": [
        "# Importación de las librerías necesarias\n",
        "\n",
        "import openmeteo_requests\n",
        "import requests_cache\n",
        "import pandas as pd\n",
        "from retry_requests import retry\n",
        "from sqlalchemy import create_engine\n",
        "\n",
        "# Configuración de la API de Open-Meteo con caché\n",
        "\n",
        "cache_session = requests_cache.CachedSession('.cache', expire_after = -1)\n",
        "retry_session = retry(cache_session, retries = 5, backoff_factor = 0.2)\n",
        "openmeteo = openmeteo_requests.Client(session = retry_session)\n",
        "\n",
        "# Aseguramos de que todas las variables meteorológicas que queremos estén enumeradas.\n",
        "# Tenemos cuidado del órden de las variables para asignarlas correctamente más adelante.\n",
        "\n",
        "url = \"https://archive-api.open-meteo.com/v1/archive\"\n",
        "params = {\n",
        "\t\"latitude\": 36.8381,\n",
        "\t\"longitude\": -2.4597,\n",
        "\t\"start_date\": \"2022-07-18\",\n",
        "\t\"end_date\": \"2025-01-23\",\n",
        "\t\"hourly\": [\"temperature_2m\", \"relative_humidity_2m\", \"precipitation\"],\n",
        "\t\"daily\": [\"temperature_2m_max\", \"temperature_2m_min\", \"temperature_2m_mean\", \"precipitation_sum\"],\n",
        "  \"timeformat\": \"unixtime\",\n",
        "\t\"timezone\": \"auto\"\n",
        "}\n",
        "responses = openmeteo.weather_api(url, params=params)\n",
        "\n",
        "# Primera ubicación. Utilizamos un bucle \"for\" para diferentes ubicaciones o modelos meteorológicos.\n",
        "\n",
        "response = responses[0]\n",
        "print(f\"Coordinates {response.Latitude()}°N {response.Longitude()}°E\")\n",
        "print(f\"Elevation {response.Elevation()} m asl\")\n",
        "print(f\"Timezone {response.Timezone()} {response.TimezoneAbbreviation()}\")\n",
        "print(f\"Timezone difference to GMT+0 {response.UtcOffsetSeconds()} s\")\n",
        "\n",
        "# Obtenemos datos por hora ya que puede ser interesante al tener una base de datos con datos temporales recogidos por horas también.\n",
        "# Tenemos en cuenta el orden de las variables de nuevo.\n",
        "\n",
        "hourly = response.Hourly()\n",
        "hourly_temperature_2m = hourly.Variables(0).ValuesAsNumpy()\n",
        "hourly_relative_humidity_2m = hourly.Variables(1).ValuesAsNumpy()\n",
        "hourly_precipitation = hourly.Variables(2).ValuesAsNumpy()\n",
        "\n",
        "hourly_data = {\"date\": pd.date_range(\n",
        "\tstart = pd.to_datetime(hourly.Time(), unit = \"s\", utc = True),\n",
        "\tend = pd.to_datetime(hourly.TimeEnd(), unit = \"s\", utc = True),\n",
        "\tfreq = pd.Timedelta(seconds = hourly.Interval()),\n",
        "\tinclusive = \"left\"\n",
        ")}\n",
        "\n",
        "hourly_data[\"temperature_2m\"] = hourly_temperature_2m\n",
        "hourly_data[\"relative_humidity_2m\"] = hourly_relative_humidity_2m\n",
        "hourly_data[\"precipitation\"] = hourly_precipitation\n",
        "\n",
        "hourly_dataframe = pd.DataFrame(data = hourly_data)\n",
        "print(hourly_dataframe)\n",
        "\n",
        "# Obtenemos datos por días ya que también me sirven para tener una visualización de los mismos más claras y pueden ayudarme a ajustar el modelo más adelante.\n",
        "# Una vez más tenemos en cuenta el órden de las variables.\n",
        "\n",
        "daily = response.Daily()\n",
        "daily_temperature_2m_max = daily.Variables(0).ValuesAsNumpy()\n",
        "daily_temperature_2m_min = daily.Variables(1).ValuesAsNumpy()\n",
        "daily_temperature_2m_mean = daily.Variables(2).ValuesAsNumpy()\n",
        "daily_precipitation_sum = daily.Variables(3).ValuesAsNumpy()\n",
        "\n",
        "daily_data = {\"date\": pd.date_range(\n",
        "\tstart = pd.to_datetime(daily.Time(), unit = \"s\", utc = True),\n",
        "\tend = pd.to_datetime(daily.TimeEnd(), unit = \"s\", utc = True),\n",
        "\tfreq = pd.Timedelta(seconds = daily.Interval()),\n",
        "\tinclusive = \"left\"\n",
        ")}\n",
        "\n",
        "daily_data[\"temperature_2m_max\"] = daily_temperature_2m_max\n",
        "daily_data[\"temperature_2m_min\"] = daily_temperature_2m_min\n",
        "daily_data[\"temperature_2m_mean\"] = daily_temperature_2m_mean\n",
        "daily_data[\"precipitation_sum\"] = daily_precipitation_sum\n",
        "\n",
        "daily_dataframe = pd.DataFrame(data = daily_data)\n",
        "print(daily_dataframe)"
      ],
      "metadata": {
        "collapsed": true,
        "id": "iHC1BiGfsVRM"
      },
      "execution_count": null,
      "outputs": []
    },
    {
      "cell_type": "code",
      "source": [
        "# Configuración de conexión con PostgreSQL ya que tengo mi base de datos recogida allí.\n",
        "\n",
        "host = "",
        "port = "",
        "database = "",
        "user = "",
        "password = "",
        "sslmode = "",
        "\n",
        "# Creamos una conexión a la base de datos\n",
        "\n",
        "engine = create_engine(f'postgresql://{user}:{password}@{host}:{port}/{database}?sslmode={sslmode}')\n",
        "\n",
        "# Guardo el DataFrame en dos tablas distintas, \"histórico_clima\" con los datos recogidos por horas / \"daily_dataframe\" con los datos recogidos por días.\n",
        "\n",
        "nombre_tabla = \"histórico_clima\"\n",
        "hourly_dataframe.to_sql(nombre_tabla, engine, if_exists='replace', index=False)\n",
        "\n",
        "print (f\"Datos meteorológicos guardados en la tabla '{hourly_dataframe}' con éxito\")\n",
        "\n",
        "nombre_tabla = \"daily_dataframe\"\n",
        "daily_dataframe.to_sql(nombre_tabla, engine, if_exists='replace', index=False)\n",
        "\n",
        "print (f\"Datos meteorológicos guardados en la tabla '{daily_dataframe}' con éxito\")\n",
        "\n"
      ],
      "metadata": {
        "collapsed": true,
        "id": "SbSjgpWFvAiA"
      },
      "execution_count": null,
      "outputs": []
    },
    {
      "cell_type": "code",
      "source": [
        "# Exportación de ambas tablas a dos archivos csv.\n",
        "\n",
        "hourly_dataframe.to_csv('histórico_clima.csv', index=False)\n",
        "daily_dataframe.to_csv('daily_dataframe.csv', index=False)\n",
        "\n",
        "print(\"Datos meteorológicos exportados correctamente\")"
      ],
      "metadata": {
        "id": "eUlRW8j1B6A1"
      },
      "execution_count": null,
      "outputs": []
    }
  ]
}
